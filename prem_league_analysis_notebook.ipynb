{
 "cells": [
  {
   "cell_type": "markdown",
   "metadata": {},
   "source": [
    "# Premier League Match Analysis: A Statistical Exploration\n",
    "\n",
    "This project analyzes Premier League match results from the 2006-2007 season to the 2023-2024 season. It serves as a portfolio piece to demonstrate a wide array of foundational data analysis skills, from basic statistical concepts to more advanced techniques.\n",
    "\n",
    "First, we need to import the libraries that we're going to use for analysis."
   ]
  },
  {
   "cell_type": "code",
   "execution_count": 1,
   "metadata": {},
   "outputs": [],
   "source": [
    "import numpy as np\n",
    "import pandas as pd\n",
    "from matplotlib import pyplot as plt\n",
    "import seaborn as sns"
   ]
  },
  {
   "cell_type": "markdown",
   "metadata": {},
   "source": [
    "Next, we will go ahead and import the data from our csv file into a Pandas DataFrame"
   ]
  },
  {
   "cell_type": "code",
   "execution_count": 2,
   "metadata": {},
   "outputs": [],
   "source": [
    "results_df = pd.read_csv(\"data/results_data.csv\")"
   ]
  },
  {
   "cell_type": "markdown",
   "metadata": {},
   "source": [
    "Now that the data is loaded into a DataFrame we can just take a quick look at what we might be working with. First, we will have Python display some of the basic _info_ of the DataFrame and then we will actually look at the _first 5 rows_ of the DataFrame"
   ]
  },
  {
   "cell_type": "code",
   "execution_count": 3,
   "metadata": {},
   "outputs": [
    {
     "name": "stdout",
     "output_type": "stream",
     "text": [
      "<class 'pandas.core.frame.DataFrame'>\n",
      "RangeIndex: 6500 entries, 0 to 6499\n",
      "Data columns (total 5 columns):\n",
      " #   Column      Non-Null Count  Dtype \n",
      "---  ------      --------------  ----- \n",
      " 0   home_team   6500 non-null   object\n",
      " 1   away_team   6500 non-null   object\n",
      " 2   home_goals  6500 non-null   int64 \n",
      " 3   away_goals  6500 non-null   int64 \n",
      " 4   season      6500 non-null   object\n",
      "dtypes: int64(2), object(3)\n",
      "memory usage: 254.0+ KB\n"
     ]
    }
   ],
   "source": [
    "results_df.info()"
   ]
  },
  {
   "cell_type": "code",
   "execution_count": 4,
   "metadata": {},
   "outputs": [
    {
     "data": {
      "text/html": [
       "<div>\n",
       "<style scoped>\n",
       "    .dataframe tbody tr th:only-of-type {\n",
       "        vertical-align: middle;\n",
       "    }\n",
       "\n",
       "    .dataframe tbody tr th {\n",
       "        vertical-align: top;\n",
       "    }\n",
       "\n",
       "    .dataframe thead th {\n",
       "        text-align: right;\n",
       "    }\n",
       "</style>\n",
       "<table border=\"1\" class=\"dataframe\">\n",
       "  <thead>\n",
       "    <tr style=\"text-align: right;\">\n",
       "      <th></th>\n",
       "      <th>home_team</th>\n",
       "      <th>away_team</th>\n",
       "      <th>home_goals</th>\n",
       "      <th>away_goals</th>\n",
       "      <th>season</th>\n",
       "    </tr>\n",
       "  </thead>\n",
       "  <tbody>\n",
       "    <tr>\n",
       "      <th>0</th>\n",
       "      <td>Sheffield United</td>\n",
       "      <td>Liverpool</td>\n",
       "      <td>1</td>\n",
       "      <td>1</td>\n",
       "      <td>2006-2007</td>\n",
       "    </tr>\n",
       "    <tr>\n",
       "      <th>1</th>\n",
       "      <td>Arsenal</td>\n",
       "      <td>Aston Villa</td>\n",
       "      <td>1</td>\n",
       "      <td>1</td>\n",
       "      <td>2006-2007</td>\n",
       "    </tr>\n",
       "    <tr>\n",
       "      <th>2</th>\n",
       "      <td>Everton</td>\n",
       "      <td>Watford</td>\n",
       "      <td>2</td>\n",
       "      <td>1</td>\n",
       "      <td>2006-2007</td>\n",
       "    </tr>\n",
       "    <tr>\n",
       "      <th>3</th>\n",
       "      <td>Newcastle United</td>\n",
       "      <td>Wigan Athletic</td>\n",
       "      <td>2</td>\n",
       "      <td>1</td>\n",
       "      <td>2006-2007</td>\n",
       "    </tr>\n",
       "    <tr>\n",
       "      <th>4</th>\n",
       "      <td>Portsmouth</td>\n",
       "      <td>Blackburn Rovers</td>\n",
       "      <td>3</td>\n",
       "      <td>0</td>\n",
       "      <td>2006-2007</td>\n",
       "    </tr>\n",
       "  </tbody>\n",
       "</table>\n",
       "</div>"
      ],
      "text/plain": [
       "          home_team         away_team  home_goals  away_goals     season\n",
       "0  Sheffield United         Liverpool           1           1  2006-2007\n",
       "1           Arsenal       Aston Villa           1           1  2006-2007\n",
       "2           Everton           Watford           2           1  2006-2007\n",
       "3  Newcastle United    Wigan Athletic           2           1  2006-2007\n",
       "4        Portsmouth  Blackburn Rovers           3           0  2006-2007"
      ]
     },
     "execution_count": 4,
     "metadata": {},
     "output_type": "execute_result"
    }
   ],
   "source": [
    "results_df.head()"
   ]
  },
  {
   "cell_type": "markdown",
   "metadata": {},
   "source": [
    "The dataset appears fine. I am a little suspicious of the team names and whether or not they are all spelled correctly. Let's take a look at the unique values that we have for the columns *home_team* *away_team* and *season*."
   ]
  },
  {
   "cell_type": "code",
   "execution_count": 5,
   "metadata": {},
   "outputs": [
    {
     "data": {
      "text/plain": [
       "['AFC Bournemouth',\n",
       " 'Arsenal',\n",
       " 'Aston Villa',\n",
       " 'Birmingham City',\n",
       " 'Blackburn Rovers',\n",
       " 'Blackpool',\n",
       " 'Bolton Wanderers',\n",
       " 'Bournemouth',\n",
       " 'Brentford',\n",
       " 'Brighton',\n",
       " 'Brighton & Hove Albion',\n",
       " 'Brighton and Hove Albion',\n",
       " 'Burnley',\n",
       " 'Cardiff',\n",
       " 'Cardiff City',\n",
       " 'Charlton Athletic',\n",
       " 'Chelsea',\n",
       " 'Crystal Palace',\n",
       " 'Derby County',\n",
       " 'Everton',\n",
       " 'Fulham',\n",
       " 'Huddersfield',\n",
       " 'Huddersfield Town',\n",
       " 'Hull City',\n",
       " 'Leeds',\n",
       " 'Leicester',\n",
       " 'Leicester City',\n",
       " 'Liverpool',\n",
       " 'Luton Town',\n",
       " 'Man City',\n",
       " 'Man United',\n",
       " 'Manchester City',\n",
       " 'Manchester United',\n",
       " 'Middlesbrough',\n",
       " 'Newcastle',\n",
       " 'Newcastle United',\n",
       " 'Norwich',\n",
       " 'Norwich City',\n",
       " 'Nottingham',\n",
       " 'Nottingham Forest',\n",
       " 'Portsmouth',\n",
       " 'Queens Park Rangers',\n",
       " 'Reading',\n",
       " 'Sheffield United',\n",
       " 'Southampton',\n",
       " 'Stoke City',\n",
       " 'Sunderland',\n",
       " 'Swansea City',\n",
       " 'Tottenham',\n",
       " 'Tottenham Hotspur',\n",
       " 'Watford',\n",
       " 'West Brom',\n",
       " 'West Bromwich Albion',\n",
       " 'West Ham',\n",
       " 'West Ham United',\n",
       " 'Wigan Athletic',\n",
       " 'Wolverhampton Wanderers',\n",
       " 'Wolves']"
      ]
     },
     "execution_count": 5,
     "metadata": {},
     "output_type": "execute_result"
    }
   ],
   "source": [
    "sorted(results_df.home_team.unique())"
   ]
  },
  {
   "cell_type": "markdown",
   "metadata": {},
   "source": [
    "As I suspected we can already see that our names are going to have issues. For example, in the home_team column we have 3 different versions of the team Brighton & Hove Albion. Let's go ahead and make a list of all the team names from both columns, sort it, and use that list to create a name map for both columns."
   ]
  },
  {
   "cell_type": "code",
   "execution_count": 6,
   "metadata": {},
   "outputs": [
    {
     "name": "stdout",
     "output_type": "stream",
     "text": [
      "The number of unique team names in this list is: 58\n",
      "AFC Bournemouth\n",
      "Arsenal\n",
      "Aston Villa\n",
      "Birmingham City\n",
      "Blackburn Rovers\n",
      "Blackpool\n",
      "Bolton Wanderers\n",
      "Bournemouth\n",
      "Brentford\n",
      "Brighton\n",
      "Brighton & Hove Albion\n",
      "Brighton and Hove Albion\n",
      "Burnley\n",
      "Cardiff\n",
      "Cardiff City\n",
      "Charlton Athletic\n",
      "Chelsea\n",
      "Crystal Palace\n",
      "Derby County\n",
      "Everton\n",
      "Fulham\n",
      "Huddersfield\n",
      "Huddersfield Town\n",
      "Hull City\n",
      "Leeds\n",
      "Leicester\n",
      "Leicester City\n",
      "Liverpool\n",
      "Luton Town\n",
      "Man City\n",
      "Man United\n",
      "Manchester City\n",
      "Manchester United\n",
      "Middlesbrough\n",
      "Newcastle\n",
      "Newcastle United\n",
      "Norwich\n",
      "Norwich City\n",
      "Nottingham\n",
      "Nottingham Forest\n",
      "Portsmouth\n",
      "Queens Park Rangers\n",
      "Reading\n",
      "Sheffield United\n",
      "Southampton\n",
      "Stoke City\n",
      "Sunderland\n",
      "Swansea City\n",
      "Tottenham\n",
      "Tottenham Hotspur\n",
      "Watford\n",
      "West Brom\n",
      "West Bromwich Albion\n",
      "West Ham\n",
      "West Ham United\n",
      "Wigan Athletic\n",
      "Wolverhampton Wanderers\n",
      "Wolves\n"
     ]
    }
   ],
   "source": [
    "team_list = []\n",
    "\n",
    "for team in results_df.home_team.unique():\n",
    "    team_list.append(team)\n",
    "\n",
    "for team in results_df.away_team.unique():\n",
    "    if team not in team_list:\n",
    "        team_list.append(team)\n",
    "\n",
    "team_list.sort()\n",
    "\n",
    "team_list_length = len(team_list)\n",
    "\n",
    "print(f\"The number of unique team names in this list is: {team_list_length}\")\n",
    "\n",
    "for team in team_list:\n",
    "    print(team)"
   ]
  },
  {
   "cell_type": "markdown",
   "metadata": {},
   "source": [
    "I am going to create a dictionary to map all of the variations to standard names. We will simply pick 1 version of a team name and apply it to any variations that might occur in the list."
   ]
  },
  {
   "cell_type": "code",
   "execution_count": 7,
   "metadata": {},
   "outputs": [],
   "source": [
    "team_name_mapping = {\n",
    "    \"AFC Bournemouth\": \"Bournemouth\",\n",
    "    \"Brighton\": \"Brighton and Hove Albion\",\n",
    "    \"Brighton & Hove Albion\": \"Brighton and Hove Albion\",\n",
    "    \"Cardiff\": \"Cardiff City\",\n",
    "    \"Huddersfield\": \"Huddersfield Town\",\n",
    "    \"Leicester\": \"Leicester City\",\n",
    "    \"Man City\": \"Manchester City\",\n",
    "    \"Man United\": \"Manchester United\",\n",
    "    \"Newcastle\": \"Newcastle United\",\n",
    "    \"Norwich\": \"Norwich City\",\n",
    "    \"Nottingham\": \"Nottingham Forest\",\n",
    "    \"Tottenham\": \"Tottenham Hotspur\",\n",
    "    \"West Brom\": \"West Bromwich Albion\",\n",
    "    \"West Ham\": \"West Ham United\",\n",
    "    \"Wolves\": \"Wolverhampton Wanderers\"\n",
    "}"
   ]
  },
  {
   "cell_type": "markdown",
   "metadata": {},
   "source": [
    "Let's go ahead and apply our mapping and just double check that we captured all of the issues in our columns."
   ]
  },
  {
   "cell_type": "code",
   "execution_count": 8,
   "metadata": {},
   "outputs": [],
   "source": [
    "results_df.home_team = results_df.home_team.replace(team_name_mapping)\n",
    "results_df.away_team = results_df.away_team.replace(team_name_mapping)"
   ]
  },
  {
   "cell_type": "code",
   "execution_count": 9,
   "metadata": {},
   "outputs": [
    {
     "name": "stdout",
     "output_type": "stream",
     "text": [
      "The number of unique team names in this list is: 43\n",
      "Arsenal\n",
      "Aston Villa\n",
      "Birmingham City\n",
      "Blackburn Rovers\n",
      "Blackpool\n",
      "Bolton Wanderers\n",
      "Bournemouth\n",
      "Brentford\n",
      "Brighton and Hove Albion\n",
      "Burnley\n",
      "Cardiff City\n",
      "Charlton Athletic\n",
      "Chelsea\n",
      "Crystal Palace\n",
      "Derby County\n",
      "Everton\n",
      "Fulham\n",
      "Huddersfield Town\n",
      "Hull City\n",
      "Leeds\n",
      "Leicester City\n",
      "Liverpool\n",
      "Luton Town\n",
      "Manchester City\n",
      "Manchester United\n",
      "Middlesbrough\n",
      "Newcastle United\n",
      "Norwich City\n",
      "Nottingham Forest\n",
      "Portsmouth\n",
      "Queens Park Rangers\n",
      "Reading\n",
      "Sheffield United\n",
      "Southampton\n",
      "Stoke City\n",
      "Sunderland\n",
      "Swansea City\n",
      "Tottenham Hotspur\n",
      "Watford\n",
      "West Bromwich Albion\n",
      "West Ham United\n",
      "Wigan Athletic\n",
      "Wolverhampton Wanderers\n"
     ]
    }
   ],
   "source": [
    "team_list = []\n",
    "\n",
    "for team in results_df.home_team.unique():\n",
    "    team_list.append(team)\n",
    "\n",
    "for team in results_df.away_team.unique():\n",
    "    if team not in team_list:\n",
    "        team_list.append(team)\n",
    "\n",
    "team_list.sort()\n",
    "\n",
    "team_list_length = len(team_list)\n",
    "\n",
    "print(f\"The number of unique team names in this list is: {team_list_length}\")\n",
    "\n",
    "for team in team_list:\n",
    "    print(team)"
   ]
  },
  {
   "cell_type": "markdown",
   "metadata": {},
   "source": [
    "I think we have taken care of all of the issues with the team names. Lets just take a look at our *season* column and the unique values for that variable."
   ]
  },
  {
   "cell_type": "code",
   "execution_count": 11,
   "metadata": {},
   "outputs": [
    {
     "name": "stdout",
     "output_type": "stream",
     "text": [
      "['2006-2007' '2007-2008' '2008-2009' '2009-2010' '2010-2011' '2011-2012'\n",
      " '2012-2013' '2013-2014' '2014-2015' '2015-2016' '2016-2017' '2017-2018'\n",
      " '2018-2019' '2019-2020' '2020-2021' '2021-2022' '2022-2023' '2023-2024']\n"
     ]
    }
   ],
   "source": [
    "print(results_df.season.unique())"
   ]
  },
  {
   "cell_type": "markdown",
   "metadata": {},
   "source": [
    "Since we have already shown in a previous step that we have no null values and soccer matches are allowed to have 0 goals scored I will not check the home_goals and away_goals columns. This is for 2 reasons. One, if the data has no values that are specifically labled null or left blank, and a team is allowed to score 0 goals in a game, we cannot assume that a 0 means that the data is missing or null. Two, we will be later looking at the distribution of this data and getting an idea for it's shape and potential outliers. So we can leave these alone for now.\n",
    "\n",
    "Next, let's just make sure that the DataFrame data types are exactly how we want them to be for analysis. Let's go ahead and change the *home_team*, *away_team*, and *season* to the categorical data type."
   ]
  },
  {
   "cell_type": "code",
   "execution_count": 12,
   "metadata": {},
   "outputs": [
    {
     "name": "stdout",
     "output_type": "stream",
     "text": [
      "<class 'pandas.core.frame.DataFrame'>\n",
      "RangeIndex: 6500 entries, 0 to 6499\n",
      "Data columns (total 5 columns):\n",
      " #   Column      Non-Null Count  Dtype \n",
      "---  ------      --------------  ----- \n",
      " 0   home_team   6500 non-null   object\n",
      " 1   away_team   6500 non-null   object\n",
      " 2   home_goals  6500 non-null   int64 \n",
      " 3   away_goals  6500 non-null   int64 \n",
      " 4   season      6500 non-null   object\n",
      "dtypes: int64(2), object(3)\n",
      "memory usage: 254.0+ KB\n"
     ]
    }
   ],
   "source": [
    "results_df.info()"
   ]
  },
  {
   "cell_type": "code",
   "execution_count": 13,
   "metadata": {},
   "outputs": [],
   "source": [
    "results_df.home_team = results_df.home_team.astype('category')\n",
    "results_df.away_team = results_df.away_team.astype('category')\n",
    "results_df.season = results_df.season.astype('category')"
   ]
  },
  {
   "cell_type": "code",
   "execution_count": 14,
   "metadata": {},
   "outputs": [
    {
     "name": "stdout",
     "output_type": "stream",
     "text": [
      "<class 'pandas.core.frame.DataFrame'>\n",
      "RangeIndex: 6500 entries, 0 to 6499\n",
      "Data columns (total 5 columns):\n",
      " #   Column      Non-Null Count  Dtype   \n",
      "---  ------      --------------  -----   \n",
      " 0   home_team   6500 non-null   category\n",
      " 1   away_team   6500 non-null   category\n",
      " 2   home_goals  6500 non-null   int64   \n",
      " 3   away_goals  6500 non-null   int64   \n",
      " 4   season      6500 non-null   category\n",
      "dtypes: category(3), int64(2)\n",
      "memory usage: 124.2 KB\n"
     ]
    }
   ],
   "source": [
    "results_df.info()"
   ]
  },
  {
   "cell_type": "markdown",
   "metadata": {},
   "source": [
    "## Feature Engineering\n",
    "\n",
    "Before we begin to do further analysis I want to create a couple more variables that we might want to keep track of. I am going to start with some basic additions and then work up to some more complex ones.\n",
    "\n",
    "Let's start with a goal difference column and a total goals column."
   ]
  },
  {
   "cell_type": "code",
   "execution_count": 18,
   "metadata": {},
   "outputs": [
    {
     "data": {
      "text/html": [
       "<div>\n",
       "<style scoped>\n",
       "    .dataframe tbody tr th:only-of-type {\n",
       "        vertical-align: middle;\n",
       "    }\n",
       "\n",
       "    .dataframe tbody tr th {\n",
       "        vertical-align: top;\n",
       "    }\n",
       "\n",
       "    .dataframe thead th {\n",
       "        text-align: right;\n",
       "    }\n",
       "</style>\n",
       "<table border=\"1\" class=\"dataframe\">\n",
       "  <thead>\n",
       "    <tr style=\"text-align: right;\">\n",
       "      <th></th>\n",
       "      <th>home_team</th>\n",
       "      <th>away_team</th>\n",
       "      <th>home_goals</th>\n",
       "      <th>away_goals</th>\n",
       "      <th>season</th>\n",
       "      <th>goal_difference</th>\n",
       "      <th>total_goals</th>\n",
       "    </tr>\n",
       "  </thead>\n",
       "  <tbody>\n",
       "    <tr>\n",
       "      <th>0</th>\n",
       "      <td>Sheffield United</td>\n",
       "      <td>Liverpool</td>\n",
       "      <td>1</td>\n",
       "      <td>1</td>\n",
       "      <td>2006-2007</td>\n",
       "      <td>0</td>\n",
       "      <td>2</td>\n",
       "    </tr>\n",
       "    <tr>\n",
       "      <th>1</th>\n",
       "      <td>Arsenal</td>\n",
       "      <td>Aston Villa</td>\n",
       "      <td>1</td>\n",
       "      <td>1</td>\n",
       "      <td>2006-2007</td>\n",
       "      <td>0</td>\n",
       "      <td>2</td>\n",
       "    </tr>\n",
       "    <tr>\n",
       "      <th>2</th>\n",
       "      <td>Everton</td>\n",
       "      <td>Watford</td>\n",
       "      <td>2</td>\n",
       "      <td>1</td>\n",
       "      <td>2006-2007</td>\n",
       "      <td>1</td>\n",
       "      <td>3</td>\n",
       "    </tr>\n",
       "    <tr>\n",
       "      <th>3</th>\n",
       "      <td>Newcastle United</td>\n",
       "      <td>Wigan Athletic</td>\n",
       "      <td>2</td>\n",
       "      <td>1</td>\n",
       "      <td>2006-2007</td>\n",
       "      <td>1</td>\n",
       "      <td>3</td>\n",
       "    </tr>\n",
       "    <tr>\n",
       "      <th>4</th>\n",
       "      <td>Portsmouth</td>\n",
       "      <td>Blackburn Rovers</td>\n",
       "      <td>3</td>\n",
       "      <td>0</td>\n",
       "      <td>2006-2007</td>\n",
       "      <td>3</td>\n",
       "      <td>3</td>\n",
       "    </tr>\n",
       "  </tbody>\n",
       "</table>\n",
       "</div>"
      ],
      "text/plain": [
       "          home_team         away_team  home_goals  away_goals     season  \\\n",
       "0  Sheffield United         Liverpool           1           1  2006-2007   \n",
       "1           Arsenal       Aston Villa           1           1  2006-2007   \n",
       "2           Everton           Watford           2           1  2006-2007   \n",
       "3  Newcastle United    Wigan Athletic           2           1  2006-2007   \n",
       "4        Portsmouth  Blackburn Rovers           3           0  2006-2007   \n",
       "\n",
       "   goal_difference  total_goals  \n",
       "0                0            2  \n",
       "1                0            2  \n",
       "2                1            3  \n",
       "3                1            3  \n",
       "4                3            3  "
      ]
     },
     "execution_count": 18,
     "metadata": {},
     "output_type": "execute_result"
    }
   ],
   "source": [
    "results_df[\"goal_difference\"] = results_df.home_goals - results_df.away_goals\n",
    "results_df[\"total_goals\"] = results_df.home_goals + results_df.away_goals\n",
    "results_df.head()"
   ]
  },
  {
   "cell_type": "markdown",
   "metadata": {},
   "source": [
    "I am going to also create a column for the result of the match. I'm going to create it as a categorical variable at first and then use Python's one-hot-encoding to break it down into binary columns."
   ]
  },
  {
   "cell_type": "code",
   "execution_count": null,
   "metadata": {},
   "outputs": [],
   "source": []
  }
 ],
 "metadata": {
  "kernelspec": {
   "display_name": ".venv",
   "language": "python",
   "name": "python3"
  },
  "language_info": {
   "codemirror_mode": {
    "name": "ipython",
    "version": 3
   },
   "file_extension": ".py",
   "mimetype": "text/x-python",
   "name": "python",
   "nbconvert_exporter": "python",
   "pygments_lexer": "ipython3",
   "version": "3.12.4"
  }
 },
 "nbformat": 4,
 "nbformat_minor": 2
}
